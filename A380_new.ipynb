{
 "cells": [
  {
   "cell_type": "code",
   "execution_count": 1,
   "id": "59b6454c-6ac9-41bb-b5cf-d0482cdb8b7b",
   "metadata": {},
   "outputs": [],
   "source": [
    "%%capture\n",
    "%pip install ortools\n",
    "%pip install tdqm"
   ]
  },
  {
   "cell_type": "code",
   "execution_count": 2,
   "id": "82b7155d-3b4b-4671-b37d-705af4ea1608",
   "metadata": {},
   "outputs": [],
   "source": [
    "from ortools.linear_solver import pywraplp\n",
    "import pandas as pd\n",
    "import numpy as np\n",
    "import matplotlib.pyplot as plt\n",
    "import math"
   ]
  },
  {
   "cell_type": "code",
   "execution_count": null,
   "id": "adf6e82f",
   "metadata": {},
   "outputs": [],
   "source": []
  },
  {
   "cell_type": "code",
   "execution_count": 3,
   "id": "31070f74-af69-4208-96d0-f2802f17fa37",
   "metadata": {},
   "outputs": [],
   "source": [
    "areaDataframe = pd.read_csv('areaData.csv')"
   ]
  },
  {
   "cell_type": "code",
   "execution_count": 4,
   "id": "d8807fa9-b297-459c-bd4c-687b5c147c34",
   "metadata": {},
   "outputs": [
    {
     "data": {
      "text/html": [
       "<div>\n",
       "<style scoped>\n",
       "    .dataframe tbody tr th:only-of-type {\n",
       "        vertical-align: middle;\n",
       "    }\n",
       "\n",
       "    .dataframe tbody tr th {\n",
       "        vertical-align: top;\n",
       "    }\n",
       "\n",
       "    .dataframe thead th {\n",
       "        text-align: right;\n",
       "    }\n",
       "</style>\n",
       "<table border=\"1\" class=\"dataframe\">\n",
       "  <thead>\n",
       "    <tr style=\"text-align: right;\">\n",
       "      <th></th>\n",
       "      <th>section</th>\n",
       "      <th>width</th>\n",
       "      <th>length</th>\n",
       "      <th>area</th>\n",
       "    </tr>\n",
       "  </thead>\n",
       "  <tbody>\n",
       "    <tr>\n",
       "      <th>0</th>\n",
       "      <td>1</td>\n",
       "      <td>1.57</td>\n",
       "      <td>10.18</td>\n",
       "      <td>15.9826</td>\n",
       "    </tr>\n",
       "    <tr>\n",
       "      <th>1</th>\n",
       "      <td>2</td>\n",
       "      <td>2.14</td>\n",
       "      <td>7.64</td>\n",
       "      <td>16.3496</td>\n",
       "    </tr>\n",
       "    <tr>\n",
       "      <th>2</th>\n",
       "      <td>3</td>\n",
       "      <td>1.57</td>\n",
       "      <td>10.18</td>\n",
       "      <td>15.9826</td>\n",
       "    </tr>\n",
       "    <tr>\n",
       "      <th>3</th>\n",
       "      <td>4</td>\n",
       "      <td>1.57</td>\n",
       "      <td>14.56</td>\n",
       "      <td>22.8592</td>\n",
       "    </tr>\n",
       "    <tr>\n",
       "      <th>4</th>\n",
       "      <td>5</td>\n",
       "      <td>2.14</td>\n",
       "      <td>12.14</td>\n",
       "      <td>25.9796</td>\n",
       "    </tr>\n",
       "  </tbody>\n",
       "</table>\n",
       "</div>"
      ],
      "text/plain": [
       "   section  width  length     area\n",
       "0        1   1.57   10.18  15.9826\n",
       "1        2   2.14    7.64  16.3496\n",
       "2        3   1.57   10.18  15.9826\n",
       "3        4   1.57   14.56  22.8592\n",
       "4        5   2.14   12.14  25.9796"
      ]
     },
     "execution_count": 4,
     "metadata": {},
     "output_type": "execute_result"
    }
   ],
   "source": [
    "areaDataframe.head()"
   ]
  },
  {
   "cell_type": "code",
   "execution_count": 5,
   "id": "746e1334",
   "metadata": {},
   "outputs": [
    {
     "data": {
      "text/plain": [
       "array([15.9826, 16.3496, 15.9826, 22.8592, 25.9796, 25.4026, 18.9342,\n",
       "       23.219 , 18.9342, 13.9573, 16.3496, 13.9573, 15.6434, 33.8954,\n",
       "       15.6434, 20.7152, 37.2788, 20.7152,  9.5123, 19.0246,  9.5123,\n",
       "        4.7508,  9.5016,  4.7508])"
      ]
     },
     "execution_count": 5,
     "metadata": {},
     "output_type": "execute_result"
    }
   ],
   "source": [
    "maxArea = areaDataframe['area'].values #in m^2\n",
    "maxArea"
   ]
  },
  {
   "cell_type": "code",
   "execution_count": null,
   "id": "455854d1",
   "metadata": {},
   "outputs": [],
   "source": []
  },
  {
   "cell_type": "code",
   "execution_count": 6,
   "id": "97786a36-1e3e-41be-bc0e-6bfefb99e4ed",
   "metadata": {},
   "outputs": [],
   "source": [
    "# Create a solver\n",
    "solver = pywraplp.Solver.CreateSolver('GLOP')\n",
    "\n",
    "# Define decision variables\n",
    "n_classes = 4\n",
    "n_sections = maxArea.size\n",
    "seats = {}\n",
    "cost = [864, 2054,5763,12184] #economic, premium, business, first\n",
    "weight = [64,64,64,64] #economic, premium, business, first (in Kg)\n",
    "max_weight = 395000 #in Kg\n",
    "demand = [1200, 250,50,26] #economic, premium, business, first\n",
    "sizes = [0.39,0.478,1.06,1.829] #economic, premium, business, first (in m^2)\n",
    "\n",
    "for i in range(n_classes):\n",
    "    for j in range(n_sections):\n",
    "        seats[i, j] = solver.IntVar(0, solver.infinity(), f'seats_{i}_{j}')\n",
    "\n",
    "# Define objective function\n",
    "revenue = solver.Sum(seats[i, j] * cost[i] for i in range(n_classes) for j in range(n_sections))\n",
    "\n",
    "# Maximize revenue\n",
    "solver.Maximize(revenue)\n",
    "\n",
    "# Area constraint\n",
    "for j in range(n_sections):\n",
    "    solver.Add(\n",
    "        solver.Sum(seats[i, j] * sizes[i] for i in range(n_classes)) <= maxArea[j]\n",
    "    )\n",
    "\n",
    "# Weight constraint\n",
    "weight_constraint = solver.Sum(\n",
    "    seats[i, j] * weight[i] \n",
    "    for i in range(n_classes) \n",
    "    for j in range(n_sections)\n",
    ") <= max_weight\n",
    "\n",
    "# Demand constraint\n",
    "for i in range(n_classes):\n",
    "    solver.Add(\n",
    "        (solver.Sum(seats[i, j] for j in range(n_sections)) <= demand[i])\n",
    "    )\n"
   ]
  },
  {
   "cell_type": "code",
   "execution_count": 7,
   "id": "36788598",
   "metadata": {},
   "outputs": [
    {
     "name": "stdout",
     "output_type": "stream",
     "text": [
      "Objective value Revenue = 1581000.9907692308\n"
     ]
    }
   ],
   "source": [
    "# Solve the problem\n",
    "status = solver.Solve()\n",
    "\n",
    "# Get the optimal solution\n",
    "\n",
    "if status == pywraplp.Solver.OPTIMAL:\n",
    "    print('Objective value Revenue =', solver.Objective().Value())\n",
    "else:\n",
    "    print('The problem does not have an optimal solution.')"
   ]
  },
  {
   "cell_type": "code",
   "execution_count": 8,
   "id": "e6a30c4f",
   "metadata": {},
   "outputs": [
    {
     "ename": "SyntaxError",
     "evalue": "unexpected EOF while parsing (102367587.py, line 1)",
     "output_type": "error",
     "traceback": [
      "\u001b[0;36m  Cell \u001b[0;32mIn[8], line 1\u001b[0;36m\u001b[0m\n\u001b[0;31m    def plot_seats():\u001b[0m\n\u001b[0m                     ^\u001b[0m\n\u001b[0;31mSyntaxError\u001b[0m\u001b[0;31m:\u001b[0m unexpected EOF while parsing\n"
     ]
    }
   ],
   "source": [
    "def plot_seats():\n"
   ]
  },
  {
   "cell_type": "code",
   "execution_count": null,
   "id": "4734e562",
   "metadata": {},
   "outputs": [
    {
     "name": "stdout",
     "output_type": "stream",
     "text": [
      "473.0\n",
      "250.0\n",
      "50.0\n",
      "24.0\n"
     ]
    },
    {
     "data": {
      "image/png": "[encoded data removed]",
      "text/plain": [
       "<Figure size 640x480 with 1 Axes>"
      ]
     },
     "metadata": {},
     "output_type": "display_data"
    }
   ],
   "source": [
    "# Create a histogram of each section and show the distribution of seats sold in each class\n",
    "fig, ax = plt.subplots()\n",
    "index = np.arange(n_sections)\n",
    "bar_width = 0.2\n",
    "opacity = 0.8\n",
    "class_labels = ['Economic', 'Premium', 'Business', 'First']\n",
    "\n",
    "for i in range(n_classes):\n",
    "    values = [seats[i, j].solution_value() for j in range(n_sections)]\n",
    "    print(np.sum(values))\n",
    "    ax.bar(index + i * bar_width, values, bar_width, alpha=opacity, label=class_labels[i])\n",
    "\n",
    "ax.set_xlabel('Section')\n",
    "ax.set_ylabel('Seats')\n",
    "ax.set_title('Seats sold by section and class')\n",
    "ax.legend()\n",
    "\n",
    "ax.set_xticks(index + bar_width)\n",
    "ax.set_xticklabels(index)\n",
    "\n",
    "#move the x axis +1 so counts start from 1\n",
    "fig.canvas.draw()\n",
    "labels = [item.get_text() for item in ax.get_xticklabels()]\n",
    "labels = [int(float(label)) + 1 for label in labels]\n",
    "ax.set_xticklabels(labels)\n",
    "\n",
    "fig.tight_layout()\n",
    "plt.show()"
   ]
  },
  {
   "cell_type": "markdown",
   "id": "6a092c48",
   "metadata": {},
   "source": [
    "## Modelling for Location Based Seat Optimization (Regularization/Penalties)\n",
    "This time, we try to minmize the costs of assigning a seat with a specific economy class $i$ to section $j$ to try to partition the classes by plane sections.\n",
    "\n",
    "As we can see above, even though our solution is mathematically \"correct\" in that it finds the seating assignment with the largest possible revenue given the constraints, it has room for improvement when considering the human decision making process. After all, we are assuming there are four different cabin classes with different price points, so we do want to make the higher classes as appealing to the customer as possible.\n",
    "\n",
    "Following the current norm for airplane seating arrangements, our goal for this improved problem formulation is to try to incentivise the algorithm to place first/business at the front of the plane and economy at the back of the plane. Adding constraints to where seats can be placed won't solve the problem since we will end up doing a simple division to see how many seats of a certain class can fit into a designated area.\n",
    "\n",
    "One idea is to **penalize** poor seat assignment by subtracting from the total revenue some cost for assigning a seat too far away.\n",
    "\n",
    "\n",
    "\n",
    "### Objective Function\n",
    "L\n",
    "\n",
    "### Variables\n",
    "Let $c_{ij}$ be the cost of assigning seat class $i$ to section $j$\n",
    "\n",
    "$$\n",
    "c_{0,j} = \\begin{cases}\n",
    "0 \\\\\n",
    "1 \\\\\n",
    "2 \\\\\n",
    "3 \\\\\n",
    "\\end{cases}\n",
    "$$"
   ]
  },
  {
   "cell_type": "markdown",
   "id": "01acca14",
   "metadata": {},
   "source": [
    "### Equally Distribute Seats and Penalize Based on Relative Index Distance"
   ]
  },
  {
   "cell_type": "code",
   "execution_count": null,
   "id": "3ebd930a",
   "metadata": {},
   "outputs": [],
   "source": [
    "# C = np.array([\n",
    "#     [3, 3, 3, 3, 3, 3, 2, 2, 2, 2, 2, 2, 1, 1, 1, 1, 1, 1, 0, 0, 0, 0, 0, 0, 0], # Econ\n",
    "#     [2, 2, 2, 2, 2, 2, 1, 1, 1, 1, 1, 1, 0, 0, 0, 0, 0, 0, 1, 1, 1, 1, 1, 1, 1], # Prem. Econ\n",
    "#     [1, 1, 1, 1, 1, 1, 0, 0, 0, 0, 0, 0, 1, 1, 1, 1, 1, 1, 2, 2, 2, 2, 2, 2, 2], # Business\n",
    "#     [0, 0, 0, 0, 0, 0, 1, 1, 1, 1, 1, 1, 2, 2, 2, 2, 2, 2, 3, 3, 3, 3, 3, 3, 3]  # First\n",
    "# ])\n",
    "\n",
    "# C = np.array([\n",
    "#     [40, 40, 40, 40, 40, 40, 20, 20, 20, 20, 20, 20, 10, 10, 10, 10, 10, 10, 0, 0, 0, 0, 0, 0, 0], # Econ\n",
    "#     [30, 30, 30, 30, 30, 30, 15, 15, 15, 15, 15, 15, 0, 0, 0, 0, 0, 0, 10, 10, 10, 10, 10, 10, 10], # Prem. Econ\n",
    "#     [20, 20, 20, 20, 20, 20, 0, 0, 0, 0, 0, 0, 10, 10, 10, 10, 10, 10, 30, 30, 30, 30, 30, 30, 30], # Business\n",
    "#     [0, 0, 0, 0, 0, 0, 5, 5, 5, 5, 5, 5, 10, 10, 10, 10, 10, 10, 20, 20, 20, 20, 20, 20, 20]  # First\n",
    "# ])\n",
    "\n",
    "C = np.array([\n",
    "    [100, 100, 100, 100, 100, 100, 100, 100, 100, 50, 50, 50, 0, 0, 0, 0, 0, 0, 0, 0, 0, 0, 0, 0, 0], # Econ\n",
    "    [100, 100, 100, 100, 100, 100, 0, 0, 0, 0, 0, 0, 50, 50, 50, 50, 50, 50, 50, 50, 50, 50, 50, 50, 50], # Prem. Econ\n",
    "    [100, 100, 100, 0, 0, 0, 50, 50, 50, 50, 50, 50, 50, 50, 50, 50, 50, 50, 50, 50, 50, 50, 50, 50, 50], # Business\n",
    "    [0, 0, 0, 50, 50, 50, 50, 50, 50, 50, 50, 50, 50, 50, 50, 50, 50, 50, 50, 50, 50, 50, 50, 50, 50]  # First\n",
    "])\n",
    "\n",
    "cost_penalty_function = lambda x: x**2\n",
    "# cost_penalty_function = lambda x: x\n",
    "cost_penalty_function_transform = np.vectorize(cost_penalty_function)\n",
    "cost_penalty = cost_penalty_function(C)"
   ]
  },
  {
   "cell_type": "code",
   "execution_count": null,
   "id": "a022a358",
   "metadata": {},
   "outputs": [
    {
     "data": {
      "text/plain": [
       "array([[10000, 10000, 10000, 10000, 10000, 10000, 10000, 10000, 10000,\n",
       "           25,    25,    25,     0,     0,     0,     0,     0,     0,\n",
       "            0,     0,     0,     0,     0,     0,     0],\n",
       "       [10000, 10000, 10000, 10000, 10000, 10000,     0,     0,     0,\n",
       "            0,     0,     0,    25,    25,    25,  2500,  2500,  2500,\n",
       "         2500,  2500,  2500,  2500,  2500,  2500,  2500],\n",
       "       [10000, 10000, 10000,     0,     0,     0,    25,    25,    25,\n",
       "           25,    25,    25,  2500,  2500,  2500,  2500,  2500,  2500,\n",
       "         2500,  2500,  2500,  2500,  2500,  2500,  2500],\n",
       "       [    0,     0,     0,    25,    25,    25,  2500,  2500,  2500,\n",
       "         2500,  2500,  2500,  2500,  2500,  2500,  2500,  2500,  2500,\n",
       "         2500,  2500,  2500,  2500,  2500,  2500,  2500]])"
      ]
     },
     "execution_count": 62,
     "metadata": {},
     "output_type": "execute_result"
    }
   ],
   "source": [
    "cost_penalty"
   ]
  },
  {
   "cell_type": "code",
   "execution_count": null,
   "id": "270a4b85",
   "metadata": {},
   "outputs": [
    {
     "ename": "NameError",
     "evalue": "name 'cost_penalty' is not defined",
     "output_type": "error",
     "traceback": [
      "\u001b[0;31m---------------------------------------------------------------------------\u001b[0m",
      "\u001b[0;31mNameError\u001b[0m                                 Traceback (most recent call last)",
      "Cell \u001b[0;32mIn[27], line 19\u001b[0m\n\u001b[1;32m     16\u001b[0m         seats[i, j] \u001b[38;5;241m=\u001b[39m solver\u001b[38;5;241m.\u001b[39mIntVar(\u001b[38;5;241m0\u001b[39m, solver\u001b[38;5;241m.\u001b[39minfinity(), \u001b[38;5;124mf\u001b[39m\u001b[38;5;124m'\u001b[39m\u001b[38;5;124mseats_\u001b[39m\u001b[38;5;132;01m{\u001b[39;00mi\u001b[38;5;132;01m}\u001b[39;00m\u001b[38;5;124m_\u001b[39m\u001b[38;5;132;01m{\u001b[39;00mj\u001b[38;5;132;01m}\u001b[39;00m\u001b[38;5;124m'\u001b[39m)\n\u001b[1;32m     18\u001b[0m \u001b[38;5;66;03m# Define objective function\u001b[39;00m\n\u001b[0;32m---> 19\u001b[0m cost \u001b[38;5;241m=\u001b[39m \u001b[43msolver\u001b[49m\u001b[38;5;241;43m.\u001b[39;49m\u001b[43mSum\u001b[49m\u001b[43m(\u001b[49m\u001b[43m(\u001b[49m\u001b[43m(\u001b[49m\u001b[43mseats\u001b[49m\u001b[43m[\u001b[49m\u001b[43mi\u001b[49m\u001b[43m,\u001b[49m\u001b[43mj\u001b[49m\u001b[43m]\u001b[49m\u001b[43m \u001b[49m\u001b[38;5;241;43m*\u001b[39;49m\u001b[43m \u001b[49m\u001b[43mcost\u001b[49m\u001b[43m[\u001b[49m\u001b[43mi\u001b[49m\u001b[43m]\u001b[49m\u001b[43m)\u001b[49m\u001b[43m \u001b[49m\u001b[38;5;241;43m-\u001b[39;49m\u001b[43m \u001b[49m\u001b[43m(\u001b[49m\u001b[43mseats\u001b[49m\u001b[43m[\u001b[49m\u001b[43mi\u001b[49m\u001b[43m,\u001b[49m\u001b[43m \u001b[49m\u001b[43mj\u001b[49m\u001b[43m]\u001b[49m\u001b[43m \u001b[49m\u001b[38;5;241;43m*\u001b[39;49m\u001b[43m \u001b[49m\u001b[43mcost_penalty\u001b[49m\u001b[43m[\u001b[49m\u001b[43mi\u001b[49m\u001b[43m,\u001b[49m\u001b[43mj\u001b[49m\u001b[43m]\u001b[49m\u001b[43m)\u001b[49m\u001b[43m)\u001b[49m\u001b[43m \u001b[49m\u001b[38;5;28;43;01mfor\u001b[39;49;00m\u001b[43m \u001b[49m\u001b[43mi\u001b[49m\u001b[43m \u001b[49m\u001b[38;5;129;43;01min\u001b[39;49;00m\u001b[43m \u001b[49m\u001b[38;5;28;43mrange\u001b[39;49m\u001b[43m(\u001b[49m\u001b[43mn_classes\u001b[49m\u001b[43m)\u001b[49m\u001b[43m \u001b[49m\u001b[38;5;28;43;01mfor\u001b[39;49;00m\u001b[43m \u001b[49m\u001b[43mj\u001b[49m\u001b[43m \u001b[49m\u001b[38;5;129;43;01min\u001b[39;49;00m\u001b[43m \u001b[49m\u001b[38;5;28;43mrange\u001b[39;49m\u001b[43m(\u001b[49m\u001b[43mn_sections\u001b[49m\u001b[43m)\u001b[49m\u001b[43m)\u001b[49m\n\u001b[1;32m     21\u001b[0m \u001b[38;5;66;03m# Maximize revenue\u001b[39;00m\n\u001b[1;32m     22\u001b[0m solver\u001b[38;5;241m.\u001b[39mMaximize(cost)\n",
      "File \u001b[0;32m~/.local/share/virtualenvs/MATH441-vlJmoJsg/lib/python3.8/site-packages/ortools/linear_solver/pywraplp.py:505\u001b[0m, in \u001b[0;36mSolver.Sum\u001b[0;34m(self, expr_array)\u001b[0m\n\u001b[1;32m    504\u001b[0m \u001b[38;5;28;01mdef\u001b[39;00m \u001b[38;5;21mSum\u001b[39m(\u001b[38;5;28mself\u001b[39m, expr_array):\n\u001b[0;32m--> 505\u001b[0m   result \u001b[38;5;241m=\u001b[39m \u001b[43mSumArray\u001b[49m\u001b[43m(\u001b[49m\u001b[43mexpr_array\u001b[49m\u001b[43m)\u001b[49m\n\u001b[1;32m    506\u001b[0m   \u001b[38;5;28;01mreturn\u001b[39;00m result\n",
      "File \u001b[0;32m~/.local/share/virtualenvs/MATH441-vlJmoJsg/lib/python3.8/site-packages/ortools/linear_solver/python/linear_solver_natural_api.py:222\u001b[0m, in \u001b[0;36mSumArray.__init__\u001b[0;34m(self, array)\u001b[0m\n\u001b[1;32m    221\u001b[0m \u001b[38;5;28;01mdef\u001b[39;00m \u001b[38;5;21m__init__\u001b[39m(\u001b[38;5;28mself\u001b[39m, array):\n\u001b[0;32m--> 222\u001b[0m     \u001b[38;5;28mself\u001b[39m\u001b[38;5;241m.\u001b[39m__array \u001b[38;5;241m=\u001b[39m [CastToLinExp(elem) \u001b[38;5;28;01mfor\u001b[39;00m elem \u001b[38;5;129;01min\u001b[39;00m array]\n",
      "File \u001b[0;32m~/.local/share/virtualenvs/MATH441-vlJmoJsg/lib/python3.8/site-packages/ortools/linear_solver/python/linear_solver_natural_api.py:222\u001b[0m, in \u001b[0;36m<listcomp>\u001b[0;34m(.0)\u001b[0m\n\u001b[1;32m    221\u001b[0m \u001b[38;5;28;01mdef\u001b[39;00m \u001b[38;5;21m__init__\u001b[39m(\u001b[38;5;28mself\u001b[39m, array):\n\u001b[0;32m--> 222\u001b[0m     \u001b[38;5;28mself\u001b[39m\u001b[38;5;241m.\u001b[39m__array \u001b[38;5;241m=\u001b[39m [CastToLinExp(elem) \u001b[38;5;28;01mfor\u001b[39;00m elem \u001b[38;5;129;01min\u001b[39;00m array]\n",
      "Cell \u001b[0;32mIn[27], line 19\u001b[0m, in \u001b[0;36m<genexpr>\u001b[0;34m(.0)\u001b[0m\n\u001b[1;32m     16\u001b[0m         seats[i, j] \u001b[38;5;241m=\u001b[39m solver\u001b[38;5;241m.\u001b[39mIntVar(\u001b[38;5;241m0\u001b[39m, solver\u001b[38;5;241m.\u001b[39minfinity(), \u001b[38;5;124mf\u001b[39m\u001b[38;5;124m'\u001b[39m\u001b[38;5;124mseats_\u001b[39m\u001b[38;5;132;01m{\u001b[39;00mi\u001b[38;5;132;01m}\u001b[39;00m\u001b[38;5;124m_\u001b[39m\u001b[38;5;132;01m{\u001b[39;00mj\u001b[38;5;132;01m}\u001b[39;00m\u001b[38;5;124m'\u001b[39m)\n\u001b[1;32m     18\u001b[0m \u001b[38;5;66;03m# Define objective function\u001b[39;00m\n\u001b[0;32m---> 19\u001b[0m cost \u001b[38;5;241m=\u001b[39m solver\u001b[38;5;241m.\u001b[39mSum(((seats[i,j] \u001b[38;5;241m*\u001b[39m cost[i]) \u001b[38;5;241m-\u001b[39m (seats[i, j] \u001b[38;5;241m*\u001b[39m \u001b[43mcost_penalty\u001b[49m[i,j])) \u001b[38;5;28;01mfor\u001b[39;00m i \u001b[38;5;129;01min\u001b[39;00m \u001b[38;5;28mrange\u001b[39m(n_classes) \u001b[38;5;28;01mfor\u001b[39;00m j \u001b[38;5;129;01min\u001b[39;00m \u001b[38;5;28mrange\u001b[39m(n_sections))\n\u001b[1;32m     21\u001b[0m \u001b[38;5;66;03m# Maximize revenue\u001b[39;00m\n\u001b[1;32m     22\u001b[0m solver\u001b[38;5;241m.\u001b[39mMaximize(cost)\n",
      "\u001b[0;31mNameError\u001b[0m: name 'cost_penalty' is not defined"
     ]
    }
   ],
   "source": [
    "# Create a solver\n",
    "solver = pywraplp.Solver.CreateSolver('SAT')\n",
    "\n",
    "# Define decision variables\n",
    "n_classes = 4\n",
    "n_sections = maxArea.size\n",
    "seats = {}\n",
    "cost = [864, 2054,5763,12184] #economic, premium, business, first\n",
    "weight = [64,64,64,64] #economic, premium, business, first (in Kg)\n",
    "max_weight = 395000 #in Kg\n",
    "demand = [np.infty, 250,50,24] #economic, premium, business, first\n",
    "sizes = [0.39,0.478,1.06,1.829] #economic, premium, business, first (in m^2)\n",
    "\n",
    "for i in range(n_classes):\n",
    "    for j in range(n_sections):\n",
    "        seats[i, j] = solver.IntVar(0, solver.infinity(), f'seats_{i}_{j}')\n",
    "\n",
    "# Define objective function\n",
    "cost = solver.Sum(((seats[i,j] * cost[i]) - (seats[i, j] * cost_penalty[i,j])) for i in range(n_classes) for j in range(n_sections))\n",
    "\n",
    "# Maximize revenue\n",
    "solver.Maximize(cost)\n",
    "\n",
    "# Area constraint\n",
    "for j in range(n_sections):\n",
    "    solver.Add(\n",
    "        solver.Sum(seats[i, j] * sizes[i] for i in range(n_classes)) <= maxArea[j]\n",
    "    )\n",
    "\n",
    "# Weight constraint\n",
    "weight_constraint = solver.Sum(\n",
    "    seats[i, j] * weight[i] \n",
    "    for i in range(n_classes) \n",
    "    for j in range(n_sections)\n",
    ") <= max_weight\n",
    "\n",
    "# Demand constraint\n",
    "for i in range(n_classes):\n",
    "    solver.Add(\n",
    "        (solver.Sum(seats[i, j] for j in range(n_sections)) <= demand[i])\n",
    "    )\n"
   ]
  },
  {
   "cell_type": "code",
   "execution_count": null,
   "id": "76228c9d",
   "metadata": {},
   "outputs": [
    {
     "name": "stdout",
     "output_type": "stream",
     "text": [
      "Objective value Revenue = 0.0\n"
     ]
    }
   ],
   "source": [
    "# Solve the problem\n",
    "status = solver.Solve()\n",
    "\n",
    "# Get the optimal solution\n",
    "\n",
    "if status == pywraplp.Solver.OPTIMAL:\n",
    "    print('Objective value Revenue =', solver.Objective().Value())\n",
    "else:\n",
    "    print('The problem does not have an optimal solution.')"
   ]
  },
  {
   "cell_type": "code",
   "execution_count": null,
   "id": "f4d6ba0e",
   "metadata": {},
   "outputs": [
    {
     "name": "stdout",
     "output_type": "stream",
     "text": [
      "0.0\n",
      "0.0\n",
      "0.0\n"
     ]
    },
    {
     "name": "stdout",
     "output_type": "stream",
     "text": [
      "0.0\n"
     ]
    },
    {
     "data": {
      "image/png": "[encoded data removed]",
      "text/plain": [
       "<Figure size 640x480 with 1 Axes>"
      ]
     },
     "metadata": {},
     "output_type": "display_data"
    }
   ],
   "source": [
    "# Create a histogram of each section and show the distribution of seats sold in each class\n",
    "fig, ax = plt.subplots()\n",
    "index = np.arange(n_sections)\n",
    "bar_width = 0.2\n",
    "opacity = 0.8\n",
    "class_labels = ['Economic', 'Premium', 'Business', 'First']\n",
    "\n",
    "for i in range(n_classes):\n",
    "    values = [seats[i, j].solution_value() for j in range(n_sections)]\n",
    "    print(np.sum(values))\n",
    "    ax.bar(index + i * bar_width, values, bar_width, alpha=opacity, label=class_labels[i])\n",
    "\n",
    "ax.set_xlabel('Section')\n",
    "ax.set_ylabel('Seats')\n",
    "ax.set_title('Seats sold by section and class')\n",
    "ax.legend()\n",
    "\n",
    "ax.set_xticks(index + bar_width)\n",
    "ax.set_xticklabels(index)\n",
    "\n",
    "#move the x axis +1 so counts start from 1\n",
    "fig.canvas.draw()\n",
    "labels = [item.get_text() for item in ax.get_xticklabels()]\n",
    "labels = [int(float(label)) + 1 for label in labels]\n",
    "ax.set_xticklabels(labels)\n",
    "\n",
    "fig.tight_layout()\n",
    "plt.show()"
   ]
  },
  {
   "cell_type": "markdown",
   "id": "3505faaa",
   "metadata": {},
   "source": [
    "## Penalize Based on Priority Seating\n",
    "\n",
    "We design costs based on the following assumptions:\n",
    "\n",
    "- First class should be primarily placed in sections 1,2,3 and secondarily in 4,5,6.\n",
    "- Business class should be primarily placed in sections 4,5,6.\n",
    "- Premium economy should be primarily placed in 7,8,9,10,11,12 and could star\n",
    "- Economy should be primarily placed in 13-24\n",
    "\n",
    "We also want to incur large penalties by trying to move up section numbers."
   ]
  },
  {
   "cell_type": "code",
   "execution_count": null,
   "id": "cfbf4f82",
   "metadata": {},
   "outputs": [],
   "source": [
    "C = np.array([\n",
    "    [100, 100, 100, 100, 100, 100, 100, 100, 100, 50, 50, 50, 0, 0, 0, 0, 0, 0, 0, 0, 0, 0, 0, 0, 0], # Econ\n",
    "    [100, 100, 100, 100, 100, 100, 0, 0, 0, 0, 0, 0, 50, 50, 50, 50, 50, 50, 50, 50, 50, 50, 50, 50, 50], # Prem. Econ\n",
    "    [100, 100, 100, 0, 0, 0, 50, 50, 50, 50, 50, 50, 50, 50, 50, 50, 50, 50, 50, 50, 50, 50, 50, 50, 50], # Business\n",
    "    [0, 0, 0, 5, 5, 5, 50, 50, 50, 50, 50, 50, 50, 50, 50, 50, 50, 50, 50, 50, 50, 50, 50, 50, 50]  # First\n",
    "])"
   ]
  },
  {
   "cell_type": "code",
   "execution_count": null,
   "id": "ea5e9b36",
   "metadata": {},
   "outputs": [],
   "source": []
  },
  {
   "cell_type": "markdown",
   "id": "1c354010",
   "metadata": {},
   "source": [
    "## Simulations\n",
    "\n",
    "We will simulate a group of passengers buying airplane tickets using the Zipf distribution to sample"
   ]
  },
  {
   "cell_type": "code",
   "execution_count": null,
   "id": "11f44fda",
   "metadata": {},
   "outputs": [],
   "source": []
  },
  {
   "cell_type": "code",
   "execution_count": null,
   "id": "759c6911",
   "metadata": {},
   "outputs": [],
   "source": [
    "from enum import Enum\n",
    "\n",
    "class TravelClass(Enum):\n",
    "    ECONOMY = \"1\"\n",
    "    PREMIUM_ECONOMY = \"2\"\n",
    "    BUSINESS = \"3\"\n",
    "    FIRST = \"4\"\n",
    "    \n",
    "prices = [864, 2054,5763,12184] #economic, premium, business, first\n",
    "\n",
    "def simulate_buying_tickets():\n",
    "    \"\"\"\n",
    "    Sample from the Zipf distribution num_samples times. Returns an array of tickets bought for each flight class\n",
    "\n",
    "    Returns:\n",
    "    An array of tjkickets bought for each flight class\n",
    "    \"\"\"\n",
    "    # Total number of people buying tickets\n",
    "    demand = np.random.lognormal(mean=np.log(1000), sigma=0.2)\n",
    "\n",
    "    # Sample from Zipf distribution the number of tickets per class\n",
    "    samples = np.random.zipf(3, size=int(demand))\n",
    "\n",
    "    # Clip samples to be within range [1, 4]\n",
    "    samples = np.clip(samples, 1, 4)\n",
    "\n",
    "    # Convert samples to integers\n",
    "    samples = samples.astype(int)\n",
    "\n",
    "\n",
    "    return np.histogram(samples, bins=np.arange(1, 6))[0]\n",
    "\n",
    "def simulate_revenue(num_econ, num_prem_econ, num_business, num_first, num_iters=1000):\n",
    "    \"\"\"\n",
    "    Simulate the ticket buying process for a given set of seats. Returns the average revenue.\n",
    "\n",
    "    Params:\n",
    "    - num_econ: total allowed number of economy class tickets in layout\n",
    "    - num_prem_econ: total allowed number of economy class tickets in layout\n",
    "    - num_business: total allowed number of business class tickets in layout\n",
    "    - num_first: total allowed number of first class tickets in layout\n",
    "    - num_iters: number of trials to run simulating ticket buying\n",
    "\n",
    "    Returns:\n",
    "    Average revenue \n",
    "\n",
    "    \"\"\"\n",
    "    total_revenues = []\n",
    "    for _ in range(num_iters):\n",
    "        ticket_counts = np.array(simulate_buying_tickets())\n",
    "\n",
    "        ticket_counts[0] = max(ticket_counts[0], num_econ)\n",
    "        ticket_counts[1] = max(ticket_counts[1], num_prem_econ)\n",
    "        ticket_counts[2] = max(ticket_counts[2], num_business)\n",
    "        ticket_counts[3] = max(ticket_counts[3], num_first)\n",
    "\n",
    "        ticket_prices = np.array(prices)\n",
    "\n",
    "        revenue = np.dot(ticket_counts, ticket_prices)\n",
    "        total_revenues.append(revenue)\n",
    "\n",
    "    return np.average(total_revenues)"
   ]
  },
  {
   "cell_type": "code",
   "execution_count": null,
   "id": "9d37f08e",
   "metadata": {},
   "outputs": [
    {
     "data": {
      "text/plain": [
       "1953146.012"
      ]
     },
     "execution_count": 26,
     "metadata": {},
     "output_type": "execute_result"
    }
   ],
   "source": [
    "simulate_revenue(473, 250, 50, 24)"
   ]
  },
  {
   "cell_type": "markdown",
   "id": "6b057041",
   "metadata": {},
   "source": [
    "473.0\n",
    "250.0\n",
    "50.0\n",
    "24.0"
   ]
  },
  {
   "cell_type": "markdown",
   "id": "cb8d26c1",
   "metadata": {},
   "source": [
    "## Avg Revenue Results"
   ]
  },
  {
   "cell_type": "code",
   "execution_count": null,
   "id": "92e2fc6f",
   "metadata": {},
   "outputs": [],
   "source": []
  }
 ],
 "metadata": {
  "kernelspec": {
   "display_name": "Python 3 (ipykernel)",
   "language": "python",
   "name": "python3"
  },
  "language_info": {
   "codemirror_mode": {
    "name": "ipython",
    "version": 3
   },
   "file_extension": ".py",
   "mimetype": "text/x-python",
   "name": "python",
   "nbconvert_exporter": "python",
   "pygments_lexer": "ipython3",
   "version": "3.8.10"
  }
 },
 "nbformat": 4,
 "nbformat_minor": 5
}
